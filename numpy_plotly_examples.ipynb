{
 "cells": [
  {
   "cell_type": "markdown",
   "id": "e91dbcbe-48e8-4a54-8216-e9d04ec79f54",
   "metadata": {},
   "source": [
    "# Numpy and Plotly Examples"
   ]
  },
  {
   "cell_type": "code",
   "execution_count": 1,
   "id": "47d5dd40-d777-4248-9afa-9383a7cba30b",
   "metadata": {},
   "outputs": [],
   "source": [
    "import numpy as np\n",
    "import plotly.express as px"
   ]
  },
  {
   "cell_type": "markdown",
   "id": "fd491be5-6bb1-4f57-bd75-7cba11c9f147",
   "metadata": {},
   "source": [
    "## Scatter Plot and Contour Plot"
   ]
  },
  {
   "cell_type": "code",
   "execution_count": 30,
   "id": "b12e1c72-dab8-4a14-8df6-d34ae0866435",
   "metadata": {},
   "outputs": [],
   "source": [
    "x = np.array([[1,2],\n",
    "              [3,4],\n",
    "              [5,6]])"
   ]
  },
  {
   "cell_type": "code",
   "execution_count": 31,
   "id": "33fca31e-f529-423a-ba5a-28cf2be44d80",
   "metadata": {},
   "outputs": [
    {
     "data": {
      "text/plain": [
       "3.605551275463989"
      ]
     },
     "execution_count": 31,
     "metadata": {},
     "output_type": "execute_result"
    }
   ],
   "source": [
    "w = np.array([3,2])\n",
    "b = -5.4 * 13\n",
    "np.linalg.norm(w)"
   ]
  },
  {
   "cell_type": "code",
   "execution_count": 32,
   "id": "152cdfa8-53fb-4216-b7ed-fa20302c9db7",
   "metadata": {},
   "outputs": [
    {
     "data": {
      "text/plain": [
       "array([ 7, 17, 27])"
      ]
     },
     "execution_count": 32,
     "metadata": {},
     "output_type": "execute_result"
    }
   ],
   "source": [
    "x.dot(w)"
   ]
  },
  {
   "cell_type": "code",
   "execution_count": 33,
   "id": "87696348-6ecb-4d73-86a9-25e0aa6b1b8d",
   "metadata": {},
   "outputs": [
    {
     "data": {
      "text/plain": [
       "array([-63.2, -53.2, -43.2])"
      ]
     },
     "execution_count": 33,
     "metadata": {},
     "output_type": "execute_result"
    }
   ],
   "source": [
    "x.dot(w) + b"
   ]
  },
  {
   "cell_type": "code",
   "execution_count": null,
   "id": "38d522e6-f917-4af0-8df7-ed0664a716f0",
   "metadata": {},
   "outputs": [],
   "source": [
    "np.sign()"
   ]
  },
  {
   "cell_type": "markdown",
   "id": "acbff993-21e0-4261-a1fd-0f3ad4daf4b5",
   "metadata": {},
   "source": [
    "### Create Random Data"
   ]
  },
  {
   "cell_type": "code",
   "execution_count": 2,
   "id": "7a68a498-ed20-4cd2-860a-c96ff347cf7c",
   "metadata": {},
   "outputs": [],
   "source": [
    "n_a = 100\n",
    "x_a = np.random.normal(loc=-1, scale=1, size=(n_a,2))\n",
    "z_a = np.zeros(n_a)"
   ]
  },
  {
   "cell_type": "code",
   "execution_count": 3,
   "id": "c63a3b67-e7fd-4577-8020-8154c4d57d25",
   "metadata": {},
   "outputs": [],
   "source": [
    "n_b = 50\n",
    "x_b = np.random.normal(loc=1, scale=0.3, size=(n_b, 2))\n",
    "z_b = np.ones(n_b)"
   ]
  },
  {
   "cell_type": "code",
   "execution_count": 4,
   "id": "20d0ec51-9929-42d4-be2d-7fc167c74bbd",
   "metadata": {},
   "outputs": [],
   "source": [
    "x = np.concatenate((x_a, x_b))\n",
    "z = np.concatenate((z_a, z_b))"
   ]
  },
  {
   "cell_type": "markdown",
   "id": "53049c8b-136f-4f5d-929b-db247b9ebd2c",
   "metadata": {},
   "source": [
    "### Define Function $f(x)$"
   ]
  },
  {
   "cell_type": "code",
   "execution_count": 42,
   "id": "4376e4bc-a08a-4128-a625-af3e4b7ad5dc",
   "metadata": {},
   "outputs": [],
   "source": [
    "def f(x):\n",
    "    \"\"\" Residual from Hyperplane defined by w and b\n",
    "    \n",
    "    Argument: x -- numpy-array of size (n, 2)\n",
    "    Return value: np.array of size n\n",
    "    \"\"\"\n",
    "    w = np.array([3., 2.])\n",
    "    b = -19.5\n",
    "    return x.dot(w) + b"
   ]
  },
  {
   "cell_type": "code",
   "execution_count": 43,
   "id": "10cecb99-c3b2-411e-9dc8-72ce8c5e43dc",
   "metadata": {},
   "outputs": [
    {
     "data": {
      "text/plain": [
       "array([ 0. ,  1.5, -1.5])"
      ]
     },
     "execution_count": 43,
     "metadata": {},
     "output_type": "execute_result"
    }
   ],
   "source": [
    "x = np.array([[4.5, 3],\n",
    "              [5, 3],\n",
    "              [4, 3]])\n",
    "f(x)"
   ]
  },
  {
   "cell_type": "markdown",
   "id": "dfc5cf27-c19e-486a-94b2-05a8cd29b3b0",
   "metadata": {},
   "source": [
    "### Create a Meshgrid"
   ]
  },
  {
   "cell_type": "code",
   "execution_count": 6,
   "id": "2183c20e-b743-4816-9761-fb95b9cba591",
   "metadata": {},
   "outputs": [],
   "source": [
    "x0_min, x0_max = x[:, 0].min() -1, x[:, 0].max() + 1\n",
    "x1_min, x1_max = x[:, 1].min() -1, x[:, 1].max() + 1\n",
    "h = 0.1 # stepsize in meshgrid\n",
    "xx, yy = np.meshgrid(np.arange(x0_min, x0_max, h), np.arange(x1_min, x1_max, h))"
   ]
  },
  {
   "cell_type": "markdown",
   "id": "9ad7882c-8e7d-4485-a521-8dc0bcf7543b",
   "metadata": {},
   "source": [
    "### Create $z$ values from $f$"
   ]
  },
  {
   "cell_type": "code",
   "execution_count": 8,
   "id": "44d25c10-3d7b-4181-8eac-3f52cf6de85b",
   "metadata": {},
   "outputs": [
    {
     "data": {
      "text/plain": [
       "array([[-4.14847632, -4.04847632, -3.94847632, ...,  2.45152368,\n",
       "         2.55152368,  2.65152368],\n",
       "       [-4.14847632, -4.04847632, -3.94847632, ...,  2.45152368,\n",
       "         2.55152368,  2.65152368],\n",
       "       [-4.14847632, -4.04847632, -3.94847632, ...,  2.45152368,\n",
       "         2.55152368,  2.65152368],\n",
       "       ...,\n",
       "       [-4.14847632, -4.04847632, -3.94847632, ...,  2.45152368,\n",
       "         2.55152368,  2.65152368],\n",
       "       [-4.14847632, -4.04847632, -3.94847632, ...,  2.45152368,\n",
       "         2.55152368,  2.65152368],\n",
       "       [-4.14847632, -4.04847632, -3.94847632, ...,  2.45152368,\n",
       "         2.55152368,  2.65152368]])"
      ]
     },
     "execution_count": 8,
     "metadata": {},
     "output_type": "execute_result"
    }
   ],
   "source": [
    "#z = f(np.c_[xx.ravel(), yy.ravel()])\n",
    "xx"
   ]
  },
  {
   "cell_type": "code",
   "execution_count": null,
   "id": "01200607-8b45-4407-9699-cbcd6a4afcad",
   "metadata": {},
   "outputs": [],
   "source": [
    "def set_color(z):\n",
    "    if z == 0:\n",
    "        return \"a\"\n",
    "    elif z == 1:\n",
    "        return \"b\"\n",
    "    else:\n",
    "        return \"else\"\n",
    "\n",
    "px.scatter(\n",
    "    data_frame=x,\n",
    "    x=x[:,0],\n",
    "    y=x[:,1],\n",
    "    color=list(map(set_color,z)),\n",
    "    color_discrete_map={\"a\":\"green\", \"b\":\"red\", \"else\":\"blue\"}\n",
    ")"
   ]
  },
  {
   "cell_type": "code",
   "execution_count": null,
   "id": "9b0c42e0-ac55-420b-b271-cdb917037865",
   "metadata": {},
   "outputs": [],
   "source": [
    "np.c_()"
   ]
  }
 ],
 "metadata": {
  "kernelspec": {
   "display_name": "dsr-setup",
   "language": "python",
   "name": "dsr-setup"
  },
  "language_info": {
   "codemirror_mode": {
    "name": "ipython",
    "version": 3
   },
   "file_extension": ".py",
   "mimetype": "text/x-python",
   "name": "python",
   "nbconvert_exporter": "python",
   "pygments_lexer": "ipython3",
   "version": "3.8.13"
  }
 },
 "nbformat": 4,
 "nbformat_minor": 5
}
